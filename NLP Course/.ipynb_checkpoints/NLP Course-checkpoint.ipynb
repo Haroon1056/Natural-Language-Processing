{
 "cells": [
  {
   "cell_type": "markdown",
   "id": "a2df9302-199c-4dad-9232-286f8e654061",
   "metadata": {},
   "source": [
    "# Natural Language Processing"
   ]
  },
  {
   "cell_type": "code",
   "execution_count": 1,
   "id": "321a0a35-34a8-419e-ad53-7857d5ff0cdb",
   "metadata": {},
   "outputs": [],
   "source": [
    "var = \"Natural language processing (NLP) is a subfield of computer science and especially artificial intelligence. It is primarily concerned with providing. computers with the ability to process data encoded in natural language and is thus closely related to information retrieval, knowledge representation and computational linguistics, a subfield of linguistics.\""
   ]
  },
  {
   "cell_type": "code",
   "execution_count": 2,
   "id": "2289c831-ccef-4121-8dfc-c722159aab54",
   "metadata": {},
   "outputs": [
    {
     "data": {
      "text/plain": [
       "'Natural language processing (NLP) is a subfield of computer science and especially artificial intelligence. It is primarily concerned with providing. computers with the ability to process data encoded in natural language and is thus closely related to information retrieval, knowledge representation and computational linguistics, a subfield of linguistics.'"
      ]
     },
     "execution_count": 2,
     "metadata": {},
     "output_type": "execute_result"
    }
   ],
   "source": [
    "var"
   ]
  },
  {
   "cell_type": "markdown",
   "id": "c2cdf2fd-dca4-4054-aae9-f85d3fdc81ba",
   "metadata": {},
   "source": [
    "## Tokenization\n",
    "### Word Tokenization & Sentence Tokenization"
   ]
  },
  {
   "cell_type": "code",
   "execution_count": 3,
   "id": "1410ce6d-678c-4cfd-bfe3-b61259286b18",
   "metadata": {},
   "outputs": [],
   "source": [
    "from nltk.tokenize import word_tokenize, sent_tokenize"
   ]
  },
  {
   "cell_type": "code",
   "execution_count": 4,
   "id": "25e42a4b-abfe-4169-8295-90205c81afd7",
   "metadata": {},
   "outputs": [],
   "source": [
    "sent = sent_tokenize(var)"
   ]
  },
  {
   "cell_type": "code",
   "execution_count": 5,
   "id": "60fce4f7-9ec9-4481-b3cc-e226d8e2e06e",
   "metadata": {},
   "outputs": [
    {
     "data": {
      "text/plain": [
       "['Natural language processing (NLP) is a subfield of computer science and especially artificial intelligence.',\n",
       " 'It is primarily concerned with providing.',\n",
       " 'computers with the ability to process data encoded in natural language and is thus closely related to information retrieval, knowledge representation and computational linguistics, a subfield of linguistics.']"
      ]
     },
     "execution_count": 5,
     "metadata": {},
     "output_type": "execute_result"
    }
   ],
   "source": [
    "sent"
   ]
  },
  {
   "cell_type": "code",
   "execution_count": 6,
   "id": "53a98315-9b86-4a14-8f12-d2b101ab1a9c",
   "metadata": {},
   "outputs": [
    {
     "name": "stdout",
     "output_type": "stream",
     "text": [
      "Natural language processing (NLP) is a subfield of computer science and especially artificial intelligence.\n",
      "It is primarily concerned with providing.\n",
      "computers with the ability to process data encoded in natural language and is thus closely related to information retrieval, knowledge representation and computational linguistics, a subfield of linguistics.\n"
     ]
    }
   ],
   "source": [
    "for i in sent:\n",
    "    print(i)"
   ]
  },
  {
   "cell_type": "code",
   "execution_count": 7,
   "id": "da8bcbf1-53f8-4b12-99e5-50e8375d6fb3",
   "metadata": {},
   "outputs": [],
   "source": [
    "word = word_tokenize(var)"
   ]
  },
  {
   "cell_type": "code",
   "execution_count": null,
   "id": "03c98c08-10d3-42a6-ba13-4853993b31ee",
   "metadata": {},
   "outputs": [],
   "source": []
  },
  {
   "cell_type": "code",
   "execution_count": null,
   "id": "0db35f3a-f423-45ab-9e36-e5764c30eeb1",
   "metadata": {},
   "outputs": [],
   "source": []
  },
  {
   "cell_type": "markdown",
   "id": "38c55b67-81d0-4c25-8273-fdb2a1c6157e",
   "metadata": {},
   "source": [
    "## Stop Word Removal"
   ]
  },
  {
   "cell_type": "code",
   "execution_count": 8,
   "id": "f2630b8a-e829-4b3f-890e-51da28dac976",
   "metadata": {},
   "outputs": [],
   "source": [
    "from nltk.corpus import stopwords\n",
    "from string import punctuation"
   ]
  },
  {
   "cell_type": "code",
   "execution_count": 9,
   "id": "ee4e3f7c-4bbf-4848-ac1a-c297a1d2b7b4",
   "metadata": {},
   "outputs": [],
   "source": [
    "stop = stopwords.words(\"english\")"
   ]
  },
  {
   "cell_type": "code",
   "execution_count": 10,
   "id": "9b7d3be2-1938-431b-81d4-d17dbefb90d2",
   "metadata": {},
   "outputs": [],
   "source": [
    "stop_word_list = list(punctuation)+stop"
   ]
  },
  {
   "cell_type": "code",
   "execution_count": 11,
   "id": "f7448db3-4d0c-4e7d-aa4a-77f21c71eb72",
   "metadata": {},
   "outputs": [],
   "source": [
    "new_var = []\n",
    "for i in word:\n",
    "    if i not in stop_word_list:\n",
    "        new_var.append(i)\n"
   ]
  },
  {
   "cell_type": "code",
   "execution_count": null,
   "id": "5a01d93f-db24-479c-996b-a09d1c8627db",
   "metadata": {},
   "outputs": [],
   "source": []
  },
  {
   "cell_type": "markdown",
   "id": "597532b5-1cca-4878-8143-c85ccd396820",
   "metadata": {},
   "source": [
    "## Stemming and Lemmatization\n",
    "### Stemming"
   ]
  },
  {
   "cell_type": "code",
   "execution_count": 12,
   "id": "e34066fd-bc2f-44ff-ad6c-b3aa2645f68a",
   "metadata": {},
   "outputs": [],
   "source": [
    "from nltk.stem import LancasterStemmer, RegexpStemmer, PorterStemmer, SnowballStemmer"
   ]
  },
  {
   "cell_type": "code",
   "execution_count": 13,
   "id": "4745fce2-a144-4c45-b6ce-b409c17b1edd",
   "metadata": {},
   "outputs": [],
   "source": [
    "l = LancasterStemmer()\n",
    "r = RegexpStemmer('ing')\n",
    "p = PorterStemmer()\n",
    "s = SnowballStemmer('english')"
   ]
  },
  {
   "cell_type": "code",
   "execution_count": 14,
   "id": "b2721740-4247-42a7-b7e4-851b47327686",
   "metadata": {},
   "outputs": [
    {
     "data": {
      "text/plain": [
       "'chang'"
      ]
     },
     "execution_count": 14,
     "metadata": {},
     "output_type": "execute_result"
    }
   ],
   "source": [
    "l.stem('changing')"
   ]
  },
  {
   "cell_type": "code",
   "execution_count": 15,
   "id": "b05f4b69-3d7a-4303-bd62-782b0c19f4fc",
   "metadata": {},
   "outputs": [
    {
     "data": {
      "text/plain": [
       "'chang'"
      ]
     },
     "execution_count": 15,
     "metadata": {},
     "output_type": "execute_result"
    }
   ],
   "source": [
    "r.stem('changing')"
   ]
  },
  {
   "cell_type": "code",
   "execution_count": 16,
   "id": "739b18e3-bb4c-486d-994a-85bd1f173d07",
   "metadata": {},
   "outputs": [
    {
     "data": {
      "text/plain": [
       "'chang'"
      ]
     },
     "execution_count": 16,
     "metadata": {},
     "output_type": "execute_result"
    }
   ],
   "source": [
    "p.stem('changing')"
   ]
  },
  {
   "cell_type": "code",
   "execution_count": 17,
   "id": "ff237154-0eee-4f42-86df-87ae7d2df0e5",
   "metadata": {},
   "outputs": [
    {
     "data": {
      "text/plain": [
       "'chang'"
      ]
     },
     "execution_count": 17,
     "metadata": {},
     "output_type": "execute_result"
    }
   ],
   "source": [
    "s.stem('changing')"
   ]
  },
  {
   "cell_type": "markdown",
   "id": "4157bb1d-75ff-4dbd-ab82-504f8d9c474d",
   "metadata": {},
   "source": [
    "### Lemmatization"
   ]
  },
  {
   "cell_type": "code",
   "execution_count": 18,
   "id": "2294d2ce-5527-438a-a1f2-20e7d9582c46",
   "metadata": {},
   "outputs": [],
   "source": [
    "from nltk.stem import WordNetLemmatizer"
   ]
  },
  {
   "cell_type": "code",
   "execution_count": 19,
   "id": "d3be6c36-72a9-481a-a0f4-d8b1574d4857",
   "metadata": {},
   "outputs": [],
   "source": [
    "wl = WordNetLemmatizer()"
   ]
  },
  {
   "cell_type": "code",
   "execution_count": 20,
   "id": "c8b7f4ec-9d93-4bf4-adc9-34e78ceaf69c",
   "metadata": {},
   "outputs": [
    {
     "data": {
      "text/plain": [
       "'mouse'"
      ]
     },
     "execution_count": 20,
     "metadata": {},
     "output_type": "execute_result"
    }
   ],
   "source": [
    "wl.lemmatize('mice')"
   ]
  },
  {
   "cell_type": "code",
   "execution_count": null,
   "id": "2368be6a-d348-4e59-be6e-73250660d350",
   "metadata": {},
   "outputs": [],
   "source": []
  },
  {
   "cell_type": "markdown",
   "id": "c6c4d37b-91f3-47fc-946e-82d42bcdd343",
   "metadata": {},
   "source": [
    "## N - Grams"
   ]
  },
  {
   "cell_type": "code",
   "execution_count": 64,
   "id": "c504d3e0-3bda-4f74-a4ca-56d6481731bc",
   "metadata": {},
   "outputs": [],
   "source": [
    "x = 'i am Haroon Rasheed i am computer science student i am good boy i am best'"
   ]
  },
  {
   "cell_type": "code",
   "execution_count": 65,
   "id": "5be05be8-ca4f-431c-ab53-29856d1280a8",
   "metadata": {},
   "outputs": [],
   "source": [
    "from nltk.tokenize import word_tokenize"
   ]
  },
  {
   "cell_type": "code",
   "execution_count": 66,
   "id": "68cc358f-0b00-4683-a9da-cadc0284df2a",
   "metadata": {},
   "outputs": [],
   "source": [
    "w = word_tokenize(x)"
   ]
  },
  {
   "cell_type": "code",
   "execution_count": 67,
   "id": "de6355c1-9b75-45ef-8432-9d486d2cd081",
   "metadata": {},
   "outputs": [],
   "source": [
    "from nltk.collocations import BigramCollocationFinder, TrigramCollocationFinder, ngrams"
   ]
  },
  {
   "cell_type": "code",
   "execution_count": 68,
   "id": "01e08ef6-d3b3-4156-9873-8fcca7990bb2",
   "metadata": {},
   "outputs": [],
   "source": [
    "b = BigramCollocationFinder.from_words(w)\n",
    "t = TrigramCollocationFinder.from_words(w)\n",
    "n = ngrams(w,4)"
   ]
  },
  {
   "cell_type": "code",
   "execution_count": 69,
   "id": "a83a211a-6c71-42c8-a0cc-478073d42e95",
   "metadata": {},
   "outputs": [
    {
     "data": {
      "text/plain": [
       "FreqDist({('i', 'am'): 4, ('am', 'Haroon'): 1, ('Haroon', 'Rasheed'): 1, ('Rasheed', 'i'): 1, ('am', 'computer'): 1, ('computer', 'science'): 1, ('science', 'student'): 1, ('student', 'i'): 1, ('am', 'good'): 1, ('good', 'boy'): 1, ...})"
      ]
     },
     "execution_count": 69,
     "metadata": {},
     "output_type": "execute_result"
    }
   ],
   "source": [
    "b.ngram_fd"
   ]
  },
  {
   "cell_type": "code",
   "execution_count": 70,
   "id": "379de0e1-811d-4519-971b-f61c5611d8be",
   "metadata": {},
   "outputs": [
    {
     "data": {
      "text/plain": [
       "FreqDist({('i', 'am', 'Haroon'): 1, ('am', 'Haroon', 'Rasheed'): 1, ('Haroon', 'Rasheed', 'i'): 1, ('Rasheed', 'i', 'am'): 1, ('i', 'am', 'computer'): 1, ('am', 'computer', 'science'): 1, ('computer', 'science', 'student'): 1, ('science', 'student', 'i'): 1, ('student', 'i', 'am'): 1, ('i', 'am', 'good'): 1, ...})"
      ]
     },
     "execution_count": 70,
     "metadata": {},
     "output_type": "execute_result"
    }
   ],
   "source": [
    "t.ngram_fd"
   ]
  },
  {
   "cell_type": "code",
   "execution_count": 71,
   "id": "f7c7c7d2-2453-4d7a-8fb1-025a3a94d343",
   "metadata": {},
   "outputs": [
    {
     "name": "stdout",
     "output_type": "stream",
     "text": [
      "('i', 'am', 'Haroon', 'Rasheed')\n",
      "('am', 'Haroon', 'Rasheed', 'i')\n",
      "('Haroon', 'Rasheed', 'i', 'am')\n",
      "('Rasheed', 'i', 'am', 'computer')\n",
      "('i', 'am', 'computer', 'science')\n",
      "('am', 'computer', 'science', 'student')\n",
      "('computer', 'science', 'student', 'i')\n",
      "('science', 'student', 'i', 'am')\n",
      "('student', 'i', 'am', 'good')\n",
      "('i', 'am', 'good', 'boy')\n",
      "('am', 'good', 'boy', 'i')\n",
      "('good', 'boy', 'i', 'am')\n",
      "('boy', 'i', 'am', 'best')\n"
     ]
    }
   ],
   "source": [
    "for i in n:\n",
    "    print(i)"
   ]
  },
  {
   "cell_type": "code",
   "execution_count": null,
   "id": "f3c9d781-6ca6-4e8d-b1d3-bd0c903effb2",
   "metadata": {},
   "outputs": [],
   "source": []
  },
  {
   "cell_type": "markdown",
   "id": "7722df82-0630-4506-9024-adaa04b0ac9a",
   "metadata": {},
   "source": [
    "## Count Vectorizer"
   ]
  },
  {
   "cell_type": "code",
   "execution_count": 72,
   "id": "3a1ad484-d327-4d59-98df-047eaeeb6e6f",
   "metadata": {},
   "outputs": [],
   "source": [
    "l = ['i am Haroon Rasheed', 'i am computer science student', 'i am good boy', 'i am best']"
   ]
  },
  {
   "cell_type": "code",
   "execution_count": 73,
   "id": "69e5b906-225f-44d5-b59f-2e9758c26f3b",
   "metadata": {},
   "outputs": [],
   "source": [
    "import pandas as pd"
   ]
  },
  {
   "cell_type": "code",
   "execution_count": 74,
   "id": "72889657-a1d7-49fc-bab2-ed0ec79f538f",
   "metadata": {},
   "outputs": [],
   "source": [
    "df = pd.DataFrame({'name': l})"
   ]
  },
  {
   "cell_type": "code",
   "execution_count": 75,
   "id": "9e658373-8aac-437c-8766-1d2b33afd538",
   "metadata": {},
   "outputs": [
    {
     "data": {
      "text/html": [
       "<div>\n",
       "<style scoped>\n",
       "    .dataframe tbody tr th:only-of-type {\n",
       "        vertical-align: middle;\n",
       "    }\n",
       "\n",
       "    .dataframe tbody tr th {\n",
       "        vertical-align: top;\n",
       "    }\n",
       "\n",
       "    .dataframe thead th {\n",
       "        text-align: right;\n",
       "    }\n",
       "</style>\n",
       "<table border=\"1\" class=\"dataframe\">\n",
       "  <thead>\n",
       "    <tr style=\"text-align: right;\">\n",
       "      <th></th>\n",
       "      <th>name</th>\n",
       "    </tr>\n",
       "  </thead>\n",
       "  <tbody>\n",
       "    <tr>\n",
       "      <th>0</th>\n",
       "      <td>i am Haroon Rasheed</td>\n",
       "    </tr>\n",
       "    <tr>\n",
       "      <th>1</th>\n",
       "      <td>i am computer science student</td>\n",
       "    </tr>\n",
       "    <tr>\n",
       "      <th>2</th>\n",
       "      <td>i am good boy</td>\n",
       "    </tr>\n",
       "    <tr>\n",
       "      <th>3</th>\n",
       "      <td>i am best</td>\n",
       "    </tr>\n",
       "  </tbody>\n",
       "</table>\n",
       "</div>"
      ],
      "text/plain": [
       "                            name\n",
       "0            i am Haroon Rasheed\n",
       "1  i am computer science student\n",
       "2                  i am good boy\n",
       "3                      i am best"
      ]
     },
     "execution_count": 75,
     "metadata": {},
     "output_type": "execute_result"
    }
   ],
   "source": [
    "df"
   ]
  },
  {
   "cell_type": "code",
   "execution_count": 76,
   "id": "5edec2fe-a5d3-4f00-87b1-96cadda601b6",
   "metadata": {},
   "outputs": [],
   "source": [
    "from sklearn.feature_extraction.text import CountVectorizer"
   ]
  },
  {
   "cell_type": "code",
   "execution_count": 77,
   "id": "d6c5d2ef-f585-442b-ad82-1227970e8d48",
   "metadata": {},
   "outputs": [],
   "source": [
    "cv = CountVectorizer()"
   ]
  },
  {
   "cell_type": "code",
   "execution_count": 81,
   "id": "c168a835-dcfc-4d47-835b-08de480798c6",
   "metadata": {},
   "outputs": [],
   "source": [
    "new_df = cv.fit_transform(df['name']).toarray()"
   ]
  },
  {
   "cell_type": "code",
   "execution_count": 82,
   "id": "0bd681a5-92aa-47fb-96d3-3ecb013c084b",
   "metadata": {},
   "outputs": [
    {
     "data": {
      "text/plain": [
       "array([[1, 0, 0, 0, 0, 1, 1, 0, 0],\n",
       "       [1, 0, 0, 1, 0, 0, 0, 1, 1],\n",
       "       [1, 0, 1, 0, 1, 0, 0, 0, 0],\n",
       "       [1, 1, 0, 0, 0, 0, 0, 0, 0]])"
      ]
     },
     "execution_count": 82,
     "metadata": {},
     "output_type": "execute_result"
    }
   ],
   "source": [
    "new_df"
   ]
  },
  {
   "cell_type": "code",
   "execution_count": 84,
   "id": "f973b13e-163a-4870-a1a4-3616b0e6b292",
   "metadata": {},
   "outputs": [
    {
     "data": {
      "text/plain": [
       "{'am': 0,\n",
       " 'haroon': 5,\n",
       " 'rasheed': 6,\n",
       " 'computer': 3,\n",
       " 'science': 7,\n",
       " 'student': 8,\n",
       " 'good': 4,\n",
       " 'boy': 2,\n",
       " 'best': 1}"
      ]
     },
     "execution_count": 84,
     "metadata": {},
     "output_type": "execute_result"
    }
   ],
   "source": [
    "cv.vocabulary_"
   ]
  },
  {
   "cell_type": "code",
   "execution_count": null,
   "id": "4d364226-5ad3-4471-b093-c6c54e29bce6",
   "metadata": {},
   "outputs": [],
   "source": []
  },
  {
   "cell_type": "markdown",
   "id": "753900cf-c4bc-499c-8cd6-6702ca4e439e",
   "metadata": {},
   "source": [
    "## Word Sense Disambiguation"
   ]
  },
  {
   "cell_type": "code",
   "execution_count": 100,
   "id": "04e1c906-1afa-45e7-a291-9252ced1fbe9",
   "metadata": {},
   "outputs": [],
   "source": [
    "x = \"Sunrise (or sunup) is the moment when the upper rim of the Sun appears on the horizon in the morning,[1] at the start of the Sun path. The term can also refer to the entire process of the solar disk crossing the horizon.\""
   ]
  },
  {
   "cell_type": "code",
   "execution_count": 101,
   "id": "f636635f-5b92-44d2-8ef6-c8b0ae52f9d2",
   "metadata": {},
   "outputs": [],
   "source": [
    "y = \"A computer mouse (plural mice; also mouses) is a hand-held pointing device that detects two-dimensional motion relative to a surface. This motion is typically translated into the motion of the pointer (called a cursor) on a display, which allows a smooth control of the graphical user interface of a computer.\""
   ]
  },
  {
   "cell_type": "code",
   "execution_count": 102,
   "id": "b7c6ecbc-b0f8-4db5-9bec-1f7f95067f86",
   "metadata": {},
   "outputs": [],
   "source": [
    "from nltk.wsd import lesk\n",
    "from nltk.tokenize import word_tokenize"
   ]
  },
  {
   "cell_type": "code",
   "execution_count": 103,
   "id": "fb884b09-fb30-4a19-b04b-462340fb89ff",
   "metadata": {},
   "outputs": [],
   "source": [
    "l = lesk(word_tokenize(y), 'mouse')"
   ]
  },
  {
   "cell_type": "code",
   "execution_count": 99,
   "id": "bf843587-a35c-45be-8c59-54a3af1139bb",
   "metadata": {},
   "outputs": [
    {
     "data": {
      "text/plain": [
       "'a hand-operated electronic device that controls the coordinates of a cursor on your computer screen as you move it around on a pad; on the bottom of the device is a ball that rolls on the surface of the pad'"
      ]
     },
     "execution_count": 99,
     "metadata": {},
     "output_type": "execute_result"
    }
   ],
   "source": [
    "l.definition()"
   ]
  },
  {
   "cell_type": "code",
   "execution_count": null,
   "id": "4cce3fee-8ed2-4438-a20a-25b99546c8e5",
   "metadata": {},
   "outputs": [],
   "source": []
  }
 ],
 "metadata": {
  "kernelspec": {
   "display_name": "Python 3 (ipykernel)",
   "language": "python",
   "name": "python3"
  },
  "language_info": {
   "codemirror_mode": {
    "name": "ipython",
    "version": 3
   },
   "file_extension": ".py",
   "mimetype": "text/x-python",
   "name": "python",
   "nbconvert_exporter": "python",
   "pygments_lexer": "ipython3",
   "version": "3.10.11"
  }
 },
 "nbformat": 4,
 "nbformat_minor": 5
}
